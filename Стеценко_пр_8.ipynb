{
  "cells": [
    {
      "cell_type": "code",
      "execution_count": 19,
      "metadata": {
        "id": "jP2n0tywMnUn"
      },
      "outputs": [],
      "source": [
        "from surprise import Dataset, Reader,SVD,SVDpp,NMF,SlopeOne,KNNBasic\n",
        "from surprise import accuracy\n",
        "from surprise.model_selection import cross_validate\n",
        "from surprise.model_selection import train_test_split\n",
        "from surprise.model_selection import GridSearchCV\n",
        "import matplotlib.pyplot as plt\n",
        "from sklearn.metrics import mean_absolute_error\n",
        "from sigopt import Connection"
      ]
    },
    {
      "cell_type": "markdown",
      "metadata": {
        "id": "EhJFrk_Nfz-i"
      },
      "source": [
        "Використовуємо алгоритми SVD, SVDpp, NMF + ще два на власний вибір.\n",
        "Найкращі параметри для всіх алгоритмів підбираємо за допомогою крос-валідації."
      ]
    },
    {
      "cell_type": "code",
      "execution_count": 22,
      "metadata": {
        "id": "S0Rgo7coM4q-"
      },
      "outputs": [],
      "source": [
        "data = Dataset.load_builtin('ml-100k')\n",
        "\n",
        "algo_svd = SVD()\n",
        "algo_svdpp = SVDpp()\n",
        "algo_NMF = NMF()\n",
        "algo_slop = SlopeOne()\n",
        "algo_KNN = KNNBasic()"
      ]
    },
    {
      "cell_type": "markdown",
      "metadata": {
        "id": "y-vOyBoAf0bV"
      },
      "source": [
        "\n",
        "Крос-валідація використовується для оцінки того, наскільки добре ці алгоритми працюють на вашому датасеті."
      ]
    },
    {
      "cell_type": "code",
      "execution_count": 25,
      "metadata": {
        "colab": {
          "base_uri": "https://localhost:8080/"
        },
        "id": "zjSdPtA-RGEm",
        "outputId": "55d35119-7fa1-40c8-b26b-11a068fb21b4"
      },
      "outputs": [
        {
          "name": "stdout",
          "output_type": "stream",
          "text": [
            "Evaluating RMSE of algorithm SVD on 3 split(s).\n",
            "\n",
            "                  Fold 1  Fold 2  Fold 3  Mean    Std     \n",
            "RMSE (testset)    0.9418  0.9453  0.9512  0.9461  0.0039  \n",
            "Fit time          0.62    0.66    0.54    0.61    0.05    \n",
            "Test time         0.13    0.13    0.22    0.16    0.04    \n",
            "Evaluating RMSE of algorithm SVDpp on 3 split(s).\n",
            "\n",
            "                  Fold 1  Fold 2  Fold 3  Mean    Std     \n",
            "RMSE (testset)    0.9286  0.9299  0.9280  0.9288  0.0008  \n",
            "Fit time          17.30   17.10   17.17   17.19   0.08    \n",
            "Test time         4.74    4.79    5.01    4.85    0.12    \n",
            "Evaluating RMSE of algorithm NMF on 3 split(s).\n",
            "\n",
            "                  Fold 1  Fold 2  Fold 3  Mean    Std     \n",
            "RMSE (testset)    0.9773  0.9734  0.9706  0.9738  0.0028  \n",
            "Fit time          0.84    0.88    0.69    0.80    0.08    \n",
            "Test time         0.19    0.19    0.12    0.17    0.03    \n",
            "Evaluating RMSE of algorithm SlopeOne on 3 split(s).\n",
            "\n",
            "                  Fold 1  Fold 2  Fold 3  Mean    Std     \n",
            "RMSE (testset)    0.9465  0.9511  0.9506  0.9494  0.0020  \n",
            "Fit time          0.26    0.28    0.38    0.31    0.05    \n",
            "Test time         1.85    2.10    2.54    2.16    0.28    \n",
            "Computing the msd similarity matrix...\n",
            "Done computing similarity matrix.\n",
            "Computing the msd similarity matrix...\n",
            "Done computing similarity matrix.\n",
            "Computing the msd similarity matrix...\n",
            "Done computing similarity matrix.\n",
            "Evaluating RMSE of algorithm KNNBasic on 3 split(s).\n",
            "\n",
            "                  Fold 1  Fold 2  Fold 3  Mean    Std     \n",
            "RMSE (testset)    0.9853  0.9913  0.9917  0.9894  0.0029  \n",
            "Fit time          0.12    0.11    0.11    0.11    0.00    \n",
            "Test time         2.43    2.53    2.68    2.55    0.10    \n"
          ]
        }
      ],
      "source": [
        "crossval_svd = cross_validate(algo_svd,data,measures=['RMSE'], cv = 3, verbose=True)\n",
        "crossval_svdpp = cross_validate(algo_svdpp,data,measures=['RMSE'], cv = 3, verbose=True)\n",
        "crossval_NMF = cross_validate(algo_NMF,data,measures=['RMSE'], cv = 3, verbose=True)\n",
        "crossval_slop = cross_validate(algo_slop,data,measures=['RMSE'], cv = 3, verbose=True)\n",
        "crossval_KNN = cross_validate(algo_KNN,data,measures=['RMSE'], cv = 3, verbose=True)"
      ]
    },
    {
      "cell_type": "markdown",
      "metadata": {
        "id": "L_EQ3MKVf1M_"
      },
      "source": [
        "Обчислимо середнє значення середньоквадратичної помилки RMSE для кожного алгоритму на основі результатів крос-валідації"
      ]
    },
    {
      "cell_type": "code",
      "execution_count": 31,
      "metadata": {
        "colab": {
          "base_uri": "https://localhost:8080/"
        },
        "id": "AzzyWAzJRMGm",
        "outputId": "ce7d1e54-2e1b-4490-df5b-3094fe270a5e"
      },
      "outputs": [
        {
          "name": "stdout",
          "output_type": "stream",
          "text": [
            "svd:0.9461247406373845\n",
            "svdpp:0.9287970467569463\n",
            "nmf:0.9737928933878947\n",
            "slope:0.9494021360294861\n",
            "knn:0.9894254894973261\n"
          ]
        }
      ],
      "source": [
        "rmse_svd = crossval_svd['test_rmse'].mean()\n",
        "rmse_svdpp = crossval_svdpp['test_rmse'].mean()\n",
        "rmse_NMF = crossval_NMF['test_rmse'].mean()\n",
        "rmse_slop = crossval_slop['test_rmse'].mean()\n",
        "rmse_KNN = crossval_KNN['test_rmse'].mean()\n",
        "print(f\"svd:{rmse_svd}\")\n",
        "print(f\"svdpp:{rmse_svdpp}\")\n",
        "print(f\"nmf:{rmse_NMF}\")\n",
        "print(f\"slope:{rmse_slop}\")\n",
        "print(f\"knn:{rmse_KNN}\")"
      ]
    },
    {
      "cell_type": "code",
      "execution_count": 33,
      "metadata": {
        "colab": {
          "base_uri": "https://localhost:8080/",
          "height": 455
        },
        "id": "mkMtyWiJSX5A",
        "outputId": "2e64c93d-9344-44bd-e880-583ae216e2e4"
      },
      "outputs": [
        {
          "data": {
            "image/png": "[encoded data removed]",
            "text/plain": [
              "<Figure size 640x480 with 1 Axes>"
            ]
          },
          "metadata": {},
          "output_type": "display_data"
        }
      ],
      "source": [
        "rmse_vals = [rmse_svd,rmse_svdpp,rmse_KNN,rmse_slop,rmse_NMF]\n",
        "algorithms = ['SVD','SVDpp','NMF','SlopeOne','KNN']\n",
        "plt.bar(algorithms,rmse_vals,color=['green','blue','red','black','gray'])\n",
        "plt.xlabel('Algorithms')\n",
        "plt.ylabel('Rmse')\n",
        "plt.ylim(0.9,1.0)\n",
        "plt.show()"
      ]
    },
    {
      "cell_type": "code",
      "execution_count": 35,
      "metadata": {
        "colab": {
          "base_uri": "https://localhost:8080/"
        },
        "id": "Fj1fozRzXhb_",
        "outputId": "15a23b4d-7ef2-4341-e6f1-35ec0fb2192d"
      },
      "outputs": [
        {
          "name": "stdout",
          "output_type": "stream",
          "text": [
            "RMSE: 0.9232\n"
          ]
        },
        {
          "data": {
            "text/plain": [
              "0.9232384614642026"
            ]
          },
          "execution_count": 35,
          "metadata": {},
          "output_type": "execute_result"
        }
      ],
      "source": [
        "trainset, testset = train_test_split(data, test_size=.25)\n",
        "algo_svdpp.fit(trainset)\n",
        "predictions = algo_svdpp.test(testset)\n",
        "accuracy.rmse(predictions)"
      ]
    },
    {
      "cell_type": "code",
      "execution_count": 36,
      "metadata": {
        "colab": {
          "base_uri": "https://localhost:8080/"
        },
        "id": "7HqO_OLdXhUr",
        "outputId": "a6fc26db-ff9e-49ae-8820-4d0db02d32b6"
      },
      "outputs": [
        {
          "name": "stdout",
          "output_type": "stream",
          "text": [
            "0.96376380031234\n",
            "{'n_epochs': 10, 'lr_all': 0.005, 'reg_all': 0.4}\n"
          ]
        }
      ],
      "source": [
        "param_grid = {'n_epochs': [5, 10], 'lr_all': [0.002, 0.005],\n",
        "              'reg_all': [0.4, 0.6]}\n",
        "gs = GridSearchCV(SVDpp, param_grid, measures=['rmse', 'mae'], cv=3)\n",
        "gs.fit(data)\n",
        "print(gs.best_score['rmse'])\n",
        "print(gs.best_params['rmse'])"
      ]
    },
    {
      "cell_type": "markdown",
      "metadata": {
        "id": "OwIzsWtohUHx"
      },
      "source": [
        "Імпортуємо токен з сайту"
      ]
    },
    {
      "cell_type": "code",
      "execution_count": 37,
      "metadata": {
        "colab": {
          "base_uri": "https://localhost:8080/"
        },
        "id": "aOTHoP-QWEL8",
        "outputId": "b00b5cf3-9abe-4771-f82a-98538f43858f"
      },
      "outputs": [
        {
          "name": "stdout",
          "output_type": "stream",
          "text": [
            "Requirement already satisfied: sigopt in /usr/local/lib/python3.10/dist-packages (8.8.2)\n",
            "Requirement already satisfied: backoff<2.0.0,>=1.10.0 in /usr/local/lib/python3.10/dist-packages (from sigopt) (1.11.1)\n",
            "Requirement already satisfied: click>=8.0.0 in /usr/local/lib/python3.10/dist-packages (from sigopt) (8.1.7)\n",
            "Requirement already satisfied: GitPython>=2.0.0 in /usr/local/lib/python3.10/dist-packages (from sigopt) (3.1.40)\n",
            "Requirement already satisfied: packaging>=21.3 in /usr/local/lib/python3.10/dist-packages (from sigopt) (23.2)\n",
            "Requirement already satisfied: pypng>=0.0.20 in /usr/local/lib/python3.10/dist-packages (from sigopt) (0.20220715.0)\n",
            "Requirement already satisfied: PyYAML<7,>=5 in /usr/local/lib/python3.10/dist-packages (from sigopt) (6.0.1)\n",
            "Requirement already satisfied: requests<3.0.0,>=2.25.0 in /usr/local/lib/python3.10/dist-packages (from sigopt) (2.31.0)\n",
            "Requirement already satisfied: urllib3<2.0.0,>=1.26.5 in /usr/local/lib/python3.10/dist-packages (from sigopt) (1.26.18)\n",
            "Requirement already satisfied: gitdb<5,>=4.0.1 in /usr/local/lib/python3.10/dist-packages (from GitPython>=2.0.0->sigopt) (4.0.11)\n",
            "Requirement already satisfied: charset-normalizer<4,>=2 in /usr/local/lib/python3.10/dist-packages (from requests<3.0.0,>=2.25.0->sigopt) (3.3.1)\n",
            "Requirement already satisfied: idna<4,>=2.5 in /usr/local/lib/python3.10/dist-packages (from requests<3.0.0,>=2.25.0->sigopt) (3.4)\n",
            "Requirement already satisfied: certifi>=2017.4.17 in /usr/local/lib/python3.10/dist-packages (from requests<3.0.0,>=2.25.0->sigopt) (2023.7.22)\n",
            "Requirement already satisfied: smmap<6,>=3.0.1 in /usr/local/lib/python3.10/dist-packages (from gitdb<5,>=4.0.1->GitPython>=2.0.0->sigopt) (5.0.1)\n"
          ]
        }
      ],
      "source": [
        "conn = Connection(client_token=\"FQAJHXQJZHLSLFODVJXEHAHFYLGPSNBDSEPXNPAULUGNECQE\")"
      ]
    },
    {
      "cell_type": "code",
      "execution_count": 38,
      "metadata": {
        "colab": {
          "base_uri": "https://localhost:8080/"
        },
        "id": "WVtG-ZwDW50W",
        "outputId": "46245314-5d3d-499d-bb06-6641e7e494b5"
      },
      "outputs": [
        {
          "name": "stdout",
          "output_type": "stream",
          "text": [
            "Created experiment: https://app.sigopt.com/experiment/1023676\n"
          ]
        }
      ],
      "source": [
        "experiment = conn.experiments().create(\n",
        "  name='Surprise Movies-100k Recommender41',\n",
        "  parameters=[\n",
        "    dict(name='n_epochs', type='int', bounds=dict(min=5, max=10)),\n",
        "    dict(name='lr_all', type='double', bounds=dict(min=0.002, max=0.005)),\n",
        "    dict(name='reg_all', type='double', bounds=dict(min=0.4, max=0.6))\n",
        "  ],\n",
        "  metrics=[\n",
        "    dict(name='RMSE', objective='minimize', strategy='optimize'),\n",
        "    dict(name='MAE', objective='minimize', strategy='store')\n",
        "  ],\n",
        "  parallel_bandwidth=1,\n",
        "  observation_budget=50,\n",
        ")\n",
        "print(\"Created experiment: https://app.sigopt.com/experiment/\" + experiment.id)"
      ]
    },
    {
      "cell_type": "markdown",
      "metadata": {
        "id": "WwgLF4koiEpx"
      },
      "source": [
        "Визначаємо функції, які необхідні для створення моделі"
      ]
    },
    {
      "cell_type": "code",
      "execution_count": 39,
      "metadata": {
        "id": "ekUQ7gbEbOPu"
      },
      "outputs": [],
      "source": [
        "def create_model(assignments):\n",
        "  algo = SVDpp(\n",
        "      n_epochs=assignments['n_epochs'],\n",
        "      lr_all=assignments['lr_all'],\n",
        "      reg_all=assignments['reg_all']\n",
        "  ).fit(trainset)\n",
        "  return algo\n",
        "\n",
        "def evaluate_model(assignments):\n",
        "  algo = create_model(assignments)\n",
        "  predictions = algo.test(testset)\n",
        "  return [\n",
        "      dict(name=\"RMSE\", value=accuracy.rmse(predictions)),\n",
        "      dict(name=\"MAE\", value=accuracy.mae(predictions))\n",
        "    ]"
      ]
    },
    {
      "cell_type": "markdown",
      "metadata": {
        "id": "xQuyVIzwicnP"
      },
      "source": [
        "Цикл оптимізації"
      ]
    },
    {
      "cell_type": "code",
      "execution_count": 40,
      "metadata": {
        "colab": {
          "base_uri": "https://localhost:8080/"
        },
        "id": "Ti0ec6xIbUlD",
        "outputId": "87df3b0c-124c-4fe7-fe33-2923fc376ce1"
      },
      "outputs": [
        {
          "name": "stdout",
          "output_type": "stream",
          "text": [
            "RMSE: 0.9816\n",
            "MAE:  0.7927\n",
            "RMSE: 0.9832\n",
            "MAE:  0.7936\n",
            "RMSE: 0.9730\n",
            "MAE:  0.7826\n",
            "RMSE: 0.9669\n",
            "MAE:  0.7760\n",
            "RMSE: 0.9711\n",
            "MAE:  0.7802\n",
            "RMSE: 0.9663\n",
            "MAE:  0.7754\n",
            "RMSE: 0.9674\n",
            "MAE:  0.7771\n",
            "RMSE: 0.9636\n",
            "MAE:  0.7727\n",
            "RMSE: 0.9747\n",
            "MAE:  0.7847\n",
            "RMSE: 0.9811\n",
            "MAE:  0.7904\n",
            "RMSE: 0.9725\n",
            "MAE:  0.7827\n",
            "RMSE: 0.9774\n",
            "MAE:  0.7878\n",
            "RMSE: 0.9707\n",
            "MAE:  0.7804\n",
            "RMSE: 0.9726\n",
            "MAE:  0.7831\n",
            "RMSE: 0.9765\n",
            "MAE:  0.7857\n",
            "RMSE: 0.9699\n",
            "MAE:  0.7803\n",
            "RMSE: 0.9733\n",
            "MAE:  0.7831\n",
            "RMSE: 0.9694\n",
            "MAE:  0.7791\n",
            "RMSE: 0.9794\n",
            "MAE:  0.7901\n",
            "RMSE: 0.9683\n",
            "MAE:  0.7773\n",
            "RMSE: 0.9722\n",
            "MAE:  0.7827\n",
            "RMSE: 0.9767\n",
            "MAE:  0.7876\n",
            "RMSE: 0.9821\n",
            "MAE:  0.7925\n",
            "RMSE: 0.9724\n",
            "MAE:  0.7818\n",
            "RMSE: 0.9676\n",
            "MAE:  0.7766\n",
            "RMSE: 0.9712\n",
            "MAE:  0.7817\n",
            "RMSE: 0.9769\n",
            "MAE:  0.7871\n",
            "RMSE: 0.9725\n",
            "MAE:  0.7826\n",
            "RMSE: 0.9741\n",
            "MAE:  0.7840\n",
            "RMSE: 0.9806\n",
            "MAE:  0.7907\n",
            "RMSE: 0.9685\n",
            "MAE:  0.7777\n",
            "RMSE: 0.9742\n",
            "MAE:  0.7850\n",
            "RMSE: 0.9702\n",
            "MAE:  0.7794\n",
            "RMSE: 0.9732\n",
            "MAE:  0.7827\n",
            "RMSE: 0.9883\n",
            "MAE:  0.7986\n",
            "RMSE: 0.9733\n",
            "MAE:  0.7825\n",
            "RMSE: 0.9831\n",
            "MAE:  0.7931\n",
            "RMSE: 0.9709\n",
            "MAE:  0.7805\n",
            "RMSE: 0.9753\n",
            "MAE:  0.7846\n",
            "RMSE: 0.9766\n",
            "MAE:  0.7868\n",
            "RMSE: 0.9709\n",
            "MAE:  0.7801\n",
            "RMSE: 0.9824\n",
            "MAE:  0.7930\n",
            "RMSE: 0.9773\n",
            "MAE:  0.7883\n",
            "RMSE: 0.9767\n",
            "MAE:  0.7878\n",
            "RMSE: 0.9675\n",
            "MAE:  0.7765\n",
            "RMSE: 0.9832\n",
            "MAE:  0.7937\n",
            "RMSE: 0.9770\n",
            "MAE:  0.7872\n",
            "RMSE: 0.9796\n",
            "MAE:  0.7897\n",
            "RMSE: 0.9742\n",
            "MAE:  0.7843\n",
            "RMSE: 0.9669\n",
            "MAE:  0.7763\n",
            "Best Assignments: Assignments({\n",
            "  \"lr_all\": 0.005,\n",
            "  \"n_epochs\": 10,\n",
            "  \"reg_all\": 0.4\n",
            "})\n",
            "Explore your experiment: https://app.sigopt.com/experiment/1023676/analysis\n"
          ]
        },
        {
          "name": "stderr",
          "output_type": "stream",
          "text": [
            "/usr/local/lib/python3.10/dist-packages/sigopt/objects.py:338: RuntimeWarning: The .data field only contains a single page of results, which may be incomplete for large responses. Prefer to use the `.iterate_pages() to ensure that you iterate through all elements in the response.\n",
            "  warnings.warn(\n"
          ]
        }
      ],
      "source": [
        "while experiment.progress.observation_count < experiment.observation_budget:\n",
        "  suggestion = conn.experiments(experiment.id).suggestions().create()\n",
        "  value_dicts = evaluate_model(suggestion.assignments)\n",
        "  conn.experiments(experiment.id).observations().create(\n",
        "    suggestion=suggestion.id,\n",
        "    values=value_dicts,\n",
        "  )\n",
        "\n",
        "  experiment = conn.experiments(experiment.id).fetch()\n",
        "\n",
        "all_best_assignments = conn.experiments(experiment.id).best_assignments().fetch()\n",
        "best_assignments = all_best_assignments.data[0].assignments\n",
        "print(\"Best Assignments: \" + str(best_assignments))\n",
        "print(\"Explore your experiment: https://app.sigopt.com/experiment/\" + experiment.id + \"/analysis\")"
      ]
    },
    {
      "cell_type": "markdown",
      "metadata": {
        "id": "mVid06ZTi-d6"
      },
      "source": [
        "В ході практичної роботи я працював з датасетом movielens-100k, використовував алгоритми SVD, SVDpp, NMF. Обчислив середнє значення середньоквадратичної помилки RMSE, зробив візуалізацію."
      ]
    }
  ],
  "metadata": {
    "colab": {
      "provenance": []
    },
    "kernelspec": {
      "display_name": "Python 3",
      "name": "python3"
    },
    "language_info": {
      "name": "python"
    }
  },
  "nbformat": 4,
  "nbformat_minor": 0
}
